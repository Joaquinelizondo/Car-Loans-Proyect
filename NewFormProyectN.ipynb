{
 "cells": [
  {
   "cell_type": "code",
   "execution_count": 1,
   "metadata": {},
   "outputs": [
    {
     "name": "stdout",
     "output_type": "stream",
     "text": [
      "accepted\n",
      "accepted\n",
      "accepted\n",
      "accepted\n",
      "accepted\n"
     ]
    }
   ],
   "source": [
    "from tkinter import *\n",
    "\n",
    "root = Tk()\n",
    "\n",
    "root.geometry(\"400x280\")\n",
    "root.configure(bg=\"Skyblue\")\n",
    "\n",
    "def values():\n",
    "    print(\"accepted\")\n",
    "\n",
    "#Titulo\n",
    "Label(root, text=\"Customer Form\", font=\"ta 18 bold\").grid(row=0, column=3)\n",
    "\n",
    "#Variables\n",
    "name = Label(root, text=\"Name\")\n",
    "phone = Label(root, text=\"Phone\")\n",
    "email = Label(root, text=\"Email\")\n",
    "gender = Label(root, text=\"Gender\")\n",
    "occupation = Label(root, text=\"Occupation\")\n",
    "\n",
    "#Variables\n",
    "name.grid(row=1, column= 2)\n",
    "phone.grid(row=2, column= 2)\n",
    "email.grid(row=3, column= 2)\n",
    "gender.grid(row=4, column=2)\n",
    "occupation.grid(row=5, column=2)\n",
    "\n",
    "\n",
    "#pasar varialbes a string\n",
    "namevalue = StringVar\n",
    "phonevalue = StringVar\n",
    "gendervalue = StringVar\n",
    "emailvalue = StringVar\n",
    "occupationvalue = StringVar\n",
    "checkvalue = StringVar\n",
    "\n",
    "\n",
    "\n",
    "\n",
    "\n",
    "\n",
    "#Creando los campos de entrada\n",
    "nameentry = Entry(root, textvariable= namevalue)\n",
    "phoneentry = Entry(root, textvariable = phonevalue)\n",
    "genderentry = Entry(root, textvariable = gendervalue)\n",
    "emailentry = Entry(root, textvariable = emailvalue)\n",
    "occupationentry = Entry(root, textvariable = occupationvalue)\n",
    "\n",
    "#Funcion para ingresar datos\n",
    "nameentry.grid(row=1, column=3)\n",
    "phoneentry.grid(row=2, column=3)\n",
    "genderentry.grid(row=3, column=3)\n",
    "emailentry.grid(row=4, column=3)\n",
    "occupationentry.grid(row=5, column=3)\n",
    "\n",
    "\n",
    "\n",
    "Checkbtn = Checkbutton(text= \"remember me\", variable= checkvalue)\n",
    "Checkbtn.grid(row=7, column=3)\n",
    "\n",
    "#Submit\n",
    "Button(text=\"submit\", command=values).grid(row=8, column=3)\n",
    "\n",
    "root.mainloop()"
   ]
  }
 ],
 "metadata": {
  "kernelspec": {
   "display_name": "Python 3.10.6 64-bit",
   "language": "python",
   "name": "python3"
  },
  "language_info": {
   "codemirror_mode": {
    "name": "ipython",
    "version": 3
   },
   "file_extension": ".py",
   "mimetype": "text/x-python",
   "name": "python",
   "nbconvert_exporter": "python",
   "pygments_lexer": "ipython3",
   "version": "3.10.6"
  },
  "orig_nbformat": 4,
  "vscode": {
   "interpreter": {
    "hash": "aee8b7b246df8f9039afb4144a1f6fd8d2ca17a180786b69acc140d282b71a49"
   }
  }
 },
 "nbformat": 4,
 "nbformat_minor": 2
}
